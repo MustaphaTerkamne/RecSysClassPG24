{
  "cells": [
    {
      "cell_type": "code",
      "execution_count": null,
      "metadata": {
        "id": "pQ2FPf1RmO6q"
      },
      "outputs": [],
      "source": [
        "from urllib import request\n",
        "import zipfile\n",
        "import time\n",
        "import numpy as np\n",
        "import pandas as pd\n",
        "import matplotlib.pyplot as plt"
      ]
    },
    {
      "cell_type": "markdown",
      "metadata": {
        "id": "jwBlFDKimO6u"
      },
      "source": [
        "Accessing data:"
      ]
    },
    {
      "cell_type": "code",
      "execution_count": null,
      "metadata": {
        "id": "3_pwKM65mO6w"
      },
      "outputs": [],
      "source": [
        "DATASET_URL = 'http://files.grouplens.org/datasets/movielens/ml-100k.zip'\n",
        "DATASET_ARCHIVE = 'ml-100k.zip'\n",
        "\n",
        "request.urlretrieve(DATASET_URL, DATASET_ARCHIVE)\n",
        "with zipfile.ZipFile(DATASET_ARCHIVE) as archive:\n",
        "    archive.extractall()"
      ]
    },
    {
      "cell_type": "markdown",
      "metadata": {
        "id": "kO6-Lk6LmO6w"
      },
      "source": [
        "# Exploratory Analysis"
      ]
    },
    {
      "cell_type": "markdown",
      "metadata": {
        "id": "V7Sk74H5mO6x"
      },
      "source": [
        "### YOUR TASK:\n",
        "1. Check readme file (especially DETAILED DESCRIPTIONS OF DATA FILES section)\n",
        "2. What do we need to do for EDA, before starting building the model?"
      ]
    },
    {
      "cell_type": "markdown",
      "metadata": {
        "id": "Srxpys1imO6x"
      },
      "source": [
        "This data set consists of:\n",
        "   * 100,000 ratings (1-5) from 943 users on 1682 movies.\n",
        "   * Each user has rated at least 20 movies."
      ]
    },
    {
      "cell_type": "code",
      "execution_count": null,
      "metadata": {
        "id": "HMT-hFrimO6y"
      },
      "outputs": [],
      "source": [
        "users_num = 943\n",
        "movies_num = 1682"
      ]
    },
    {
      "cell_type": "markdown",
      "metadata": {
        "id": "qQH3a76vmO6y"
      },
      "source": [
        "How our data looks?"
      ]
    },
    {
      "cell_type": "code",
      "execution_count": null,
      "metadata": {
        "id": "untyhM-5mO6y"
      },
      "outputs": [],
      "source": [
        "df = pd.read_csv('ml-100k/u.data', header=None, names=['user_id', 'item_id', 'rating', 'timestamp'],\n",
        "                 delim_whitespace=True)"
      ]
    },
    {
      "cell_type": "code",
      "execution_count": null,
      "metadata": {
        "colab": {
          "base_uri": "https://localhost:8080/",
          "height": 206
        },
        "id": "AgMU1L2XmO6z",
        "outputId": "ee3a5efb-370e-4d38-c7cf-3d3d3356ae3d"
      },
      "outputs": [
        {
          "output_type": "execute_result",
          "data": {
            "text/plain": [
              "   user_id  item_id  rating  timestamp\n",
              "0      196      242       3  881250949\n",
              "1      186      302       3  891717742\n",
              "2       22      377       1  878887116\n",
              "3      244       51       2  880606923\n",
              "4      166      346       1  886397596"
            ],
            "text/html": [
              "\n",
              "  <div id=\"df-462a129f-7703-4e81-bf0e-751e93a60f5c\" class=\"colab-df-container\">\n",
              "    <div>\n",
              "<style scoped>\n",
              "    .dataframe tbody tr th:only-of-type {\n",
              "        vertical-align: middle;\n",
              "    }\n",
              "\n",
              "    .dataframe tbody tr th {\n",
              "        vertical-align: top;\n",
              "    }\n",
              "\n",
              "    .dataframe thead th {\n",
              "        text-align: right;\n",
              "    }\n",
              "</style>\n",
              "<table border=\"1\" class=\"dataframe\">\n",
              "  <thead>\n",
              "    <tr style=\"text-align: right;\">\n",
              "      <th></th>\n",
              "      <th>user_id</th>\n",
              "      <th>item_id</th>\n",
              "      <th>rating</th>\n",
              "      <th>timestamp</th>\n",
              "    </tr>\n",
              "  </thead>\n",
              "  <tbody>\n",
              "    <tr>\n",
              "      <th>0</th>\n",
              "      <td>196</td>\n",
              "      <td>242</td>\n",
              "      <td>3</td>\n",
              "      <td>881250949</td>\n",
              "    </tr>\n",
              "    <tr>\n",
              "      <th>1</th>\n",
              "      <td>186</td>\n",
              "      <td>302</td>\n",
              "      <td>3</td>\n",
              "      <td>891717742</td>\n",
              "    </tr>\n",
              "    <tr>\n",
              "      <th>2</th>\n",
              "      <td>22</td>\n",
              "      <td>377</td>\n",
              "      <td>1</td>\n",
              "      <td>878887116</td>\n",
              "    </tr>\n",
              "    <tr>\n",
              "      <th>3</th>\n",
              "      <td>244</td>\n",
              "      <td>51</td>\n",
              "      <td>2</td>\n",
              "      <td>880606923</td>\n",
              "    </tr>\n",
              "    <tr>\n",
              "      <th>4</th>\n",
              "      <td>166</td>\n",
              "      <td>346</td>\n",
              "      <td>1</td>\n",
              "      <td>886397596</td>\n",
              "    </tr>\n",
              "  </tbody>\n",
              "</table>\n",
              "</div>\n",
              "    <div class=\"colab-df-buttons\">\n",
              "\n",
              "  <div class=\"colab-df-container\">\n",
              "    <button class=\"colab-df-convert\" onclick=\"convertToInteractive('df-462a129f-7703-4e81-bf0e-751e93a60f5c')\"\n",
              "            title=\"Convert this dataframe to an interactive table.\"\n",
              "            style=\"display:none;\">\n",
              "\n",
              "  <svg xmlns=\"http://www.w3.org/2000/svg\" height=\"24px\" viewBox=\"0 -960 960 960\">\n",
              "    <path d=\"M120-120v-720h720v720H120Zm60-500h600v-160H180v160Zm220 220h160v-160H400v160Zm0 220h160v-160H400v160ZM180-400h160v-160H180v160Zm440 0h160v-160H620v160ZM180-180h160v-160H180v160Zm440 0h160v-160H620v160Z\"/>\n",
              "  </svg>\n",
              "    </button>\n",
              "\n",
              "  <style>\n",
              "    .colab-df-container {\n",
              "      display:flex;\n",
              "      gap: 12px;\n",
              "    }\n",
              "\n",
              "    .colab-df-convert {\n",
              "      background-color: #E8F0FE;\n",
              "      border: none;\n",
              "      border-radius: 50%;\n",
              "      cursor: pointer;\n",
              "      display: none;\n",
              "      fill: #1967D2;\n",
              "      height: 32px;\n",
              "      padding: 0 0 0 0;\n",
              "      width: 32px;\n",
              "    }\n",
              "\n",
              "    .colab-df-convert:hover {\n",
              "      background-color: #E2EBFA;\n",
              "      box-shadow: 0px 1px 2px rgba(60, 64, 67, 0.3), 0px 1px 3px 1px rgba(60, 64, 67, 0.15);\n",
              "      fill: #174EA6;\n",
              "    }\n",
              "\n",
              "    .colab-df-buttons div {\n",
              "      margin-bottom: 4px;\n",
              "    }\n",
              "\n",
              "    [theme=dark] .colab-df-convert {\n",
              "      background-color: #3B4455;\n",
              "      fill: #D2E3FC;\n",
              "    }\n",
              "\n",
              "    [theme=dark] .colab-df-convert:hover {\n",
              "      background-color: #434B5C;\n",
              "      box-shadow: 0px 1px 3px 1px rgba(0, 0, 0, 0.15);\n",
              "      filter: drop-shadow(0px 1px 2px rgba(0, 0, 0, 0.3));\n",
              "      fill: #FFFFFF;\n",
              "    }\n",
              "  </style>\n",
              "\n",
              "    <script>\n",
              "      const buttonEl =\n",
              "        document.querySelector('#df-462a129f-7703-4e81-bf0e-751e93a60f5c button.colab-df-convert');\n",
              "      buttonEl.style.display =\n",
              "        google.colab.kernel.accessAllowed ? 'block' : 'none';\n",
              "\n",
              "      async function convertToInteractive(key) {\n",
              "        const element = document.querySelector('#df-462a129f-7703-4e81-bf0e-751e93a60f5c');\n",
              "        const dataTable =\n",
              "          await google.colab.kernel.invokeFunction('convertToInteractive',\n",
              "                                                    [key], {});\n",
              "        if (!dataTable) return;\n",
              "\n",
              "        const docLinkHtml = 'Like what you see? Visit the ' +\n",
              "          '<a target=\"_blank\" href=https://colab.research.google.com/notebooks/data_table.ipynb>data table notebook</a>'\n",
              "          + ' to learn more about interactive tables.';\n",
              "        element.innerHTML = '';\n",
              "        dataTable['output_type'] = 'display_data';\n",
              "        await google.colab.output.renderOutput(dataTable, element);\n",
              "        const docLink = document.createElement('div');\n",
              "        docLink.innerHTML = docLinkHtml;\n",
              "        element.appendChild(docLink);\n",
              "      }\n",
              "    </script>\n",
              "  </div>\n",
              "\n",
              "\n",
              "<div id=\"df-c94efc15-c815-44c4-a6e8-917aa076efa8\">\n",
              "  <button class=\"colab-df-quickchart\" onclick=\"quickchart('df-c94efc15-c815-44c4-a6e8-917aa076efa8')\"\n",
              "            title=\"Suggest charts\"\n",
              "            style=\"display:none;\">\n",
              "\n",
              "<svg xmlns=\"http://www.w3.org/2000/svg\" height=\"24px\"viewBox=\"0 0 24 24\"\n",
              "     width=\"24px\">\n",
              "    <g>\n",
              "        <path d=\"M19 3H5c-1.1 0-2 .9-2 2v14c0 1.1.9 2 2 2h14c1.1 0 2-.9 2-2V5c0-1.1-.9-2-2-2zM9 17H7v-7h2v7zm4 0h-2V7h2v10zm4 0h-2v-4h2v4z\"/>\n",
              "    </g>\n",
              "</svg>\n",
              "  </button>\n",
              "\n",
              "<style>\n",
              "  .colab-df-quickchart {\n",
              "      --bg-color: #E8F0FE;\n",
              "      --fill-color: #1967D2;\n",
              "      --hover-bg-color: #E2EBFA;\n",
              "      --hover-fill-color: #174EA6;\n",
              "      --disabled-fill-color: #AAA;\n",
              "      --disabled-bg-color: #DDD;\n",
              "  }\n",
              "\n",
              "  [theme=dark] .colab-df-quickchart {\n",
              "      --bg-color: #3B4455;\n",
              "      --fill-color: #D2E3FC;\n",
              "      --hover-bg-color: #434B5C;\n",
              "      --hover-fill-color: #FFFFFF;\n",
              "      --disabled-bg-color: #3B4455;\n",
              "      --disabled-fill-color: #666;\n",
              "  }\n",
              "\n",
              "  .colab-df-quickchart {\n",
              "    background-color: var(--bg-color);\n",
              "    border: none;\n",
              "    border-radius: 50%;\n",
              "    cursor: pointer;\n",
              "    display: none;\n",
              "    fill: var(--fill-color);\n",
              "    height: 32px;\n",
              "    padding: 0;\n",
              "    width: 32px;\n",
              "  }\n",
              "\n",
              "  .colab-df-quickchart:hover {\n",
              "    background-color: var(--hover-bg-color);\n",
              "    box-shadow: 0 1px 2px rgba(60, 64, 67, 0.3), 0 1px 3px 1px rgba(60, 64, 67, 0.15);\n",
              "    fill: var(--button-hover-fill-color);\n",
              "  }\n",
              "\n",
              "  .colab-df-quickchart-complete:disabled,\n",
              "  .colab-df-quickchart-complete:disabled:hover {\n",
              "    background-color: var(--disabled-bg-color);\n",
              "    fill: var(--disabled-fill-color);\n",
              "    box-shadow: none;\n",
              "  }\n",
              "\n",
              "  .colab-df-spinner {\n",
              "    border: 2px solid var(--fill-color);\n",
              "    border-color: transparent;\n",
              "    border-bottom-color: var(--fill-color);\n",
              "    animation:\n",
              "      spin 1s steps(1) infinite;\n",
              "  }\n",
              "\n",
              "  @keyframes spin {\n",
              "    0% {\n",
              "      border-color: transparent;\n",
              "      border-bottom-color: var(--fill-color);\n",
              "      border-left-color: var(--fill-color);\n",
              "    }\n",
              "    20% {\n",
              "      border-color: transparent;\n",
              "      border-left-color: var(--fill-color);\n",
              "      border-top-color: var(--fill-color);\n",
              "    }\n",
              "    30% {\n",
              "      border-color: transparent;\n",
              "      border-left-color: var(--fill-color);\n",
              "      border-top-color: var(--fill-color);\n",
              "      border-right-color: var(--fill-color);\n",
              "    }\n",
              "    40% {\n",
              "      border-color: transparent;\n",
              "      border-right-color: var(--fill-color);\n",
              "      border-top-color: var(--fill-color);\n",
              "    }\n",
              "    60% {\n",
              "      border-color: transparent;\n",
              "      border-right-color: var(--fill-color);\n",
              "    }\n",
              "    80% {\n",
              "      border-color: transparent;\n",
              "      border-right-color: var(--fill-color);\n",
              "      border-bottom-color: var(--fill-color);\n",
              "    }\n",
              "    90% {\n",
              "      border-color: transparent;\n",
              "      border-bottom-color: var(--fill-color);\n",
              "    }\n",
              "  }\n",
              "</style>\n",
              "\n",
              "  <script>\n",
              "    async function quickchart(key) {\n",
              "      const quickchartButtonEl =\n",
              "        document.querySelector('#' + key + ' button');\n",
              "      quickchartButtonEl.disabled = true;  // To prevent multiple clicks.\n",
              "      quickchartButtonEl.classList.add('colab-df-spinner');\n",
              "      try {\n",
              "        const charts = await google.colab.kernel.invokeFunction(\n",
              "            'suggestCharts', [key], {});\n",
              "      } catch (error) {\n",
              "        console.error('Error during call to suggestCharts:', error);\n",
              "      }\n",
              "      quickchartButtonEl.classList.remove('colab-df-spinner');\n",
              "      quickchartButtonEl.classList.add('colab-df-quickchart-complete');\n",
              "    }\n",
              "    (() => {\n",
              "      let quickchartButtonEl =\n",
              "        document.querySelector('#df-c94efc15-c815-44c4-a6e8-917aa076efa8 button');\n",
              "      quickchartButtonEl.style.display =\n",
              "        google.colab.kernel.accessAllowed ? 'block' : 'none';\n",
              "    })();\n",
              "  </script>\n",
              "</div>\n",
              "    </div>\n",
              "  </div>\n"
            ],
            "application/vnd.google.colaboratory.intrinsic+json": {
              "type": "dataframe",
              "variable_name": "df",
              "summary": "{\n  \"name\": \"df\",\n  \"rows\": 100000,\n  \"fields\": [\n    {\n      \"column\": \"user_id\",\n      \"properties\": {\n        \"dtype\": \"number\",\n        \"std\": 266,\n        \"min\": 1,\n        \"max\": 943,\n        \"num_unique_values\": 943,\n        \"samples\": [\n          262,\n          136,\n          821\n        ],\n        \"semantic_type\": \"\",\n        \"description\": \"\"\n      }\n    },\n    {\n      \"column\": \"item_id\",\n      \"properties\": {\n        \"dtype\": \"number\",\n        \"std\": 330,\n        \"min\": 1,\n        \"max\": 1682,\n        \"num_unique_values\": 1682,\n        \"samples\": [\n          1557,\n          808,\n          1618\n        ],\n        \"semantic_type\": \"\",\n        \"description\": \"\"\n      }\n    },\n    {\n      \"column\": \"rating\",\n      \"properties\": {\n        \"dtype\": \"number\",\n        \"std\": 1,\n        \"min\": 1,\n        \"max\": 5,\n        \"num_unique_values\": 5,\n        \"samples\": [\n          1,\n          5,\n          2\n        ],\n        \"semantic_type\": \"\",\n        \"description\": \"\"\n      }\n    },\n    {\n      \"column\": \"timestamp\",\n      \"properties\": {\n        \"dtype\": \"number\",\n        \"std\": 5343856,\n        \"min\": 874724710,\n        \"max\": 893286638,\n        \"num_unique_values\": 49282,\n        \"samples\": [\n          889728713,\n          888443306,\n          880605158\n        ],\n        \"semantic_type\": \"\",\n        \"description\": \"\"\n      }\n    }\n  ]\n}"
            }
          },
          "metadata": {},
          "execution_count": 79
        }
      ],
      "source": [
        "df.head()"
      ]
    },
    {
      "cell_type": "code",
      "execution_count": null,
      "metadata": {
        "colab": {
          "base_uri": "https://localhost:8080/",
          "height": 206
        },
        "id": "AvlNTMi0mO60",
        "outputId": "88093954-2c2b-4731-c15a-0490da35c569"
      },
      "outputs": [
        {
          "output_type": "execute_result",
          "data": {
            "text/plain": [
              "       user_id  item_id  rating  timestamp\n",
              "99995      880      476       3  880175444\n",
              "99996      716      204       5  879795543\n",
              "99997      276     1090       1  874795795\n",
              "99998       13      225       2  882399156\n",
              "99999       12      203       3  879959583"
            ],
            "text/html": [
              "\n",
              "  <div id=\"df-2b054625-abd9-460b-bcc1-7fc4c7ef12c6\" class=\"colab-df-container\">\n",
              "    <div>\n",
              "<style scoped>\n",
              "    .dataframe tbody tr th:only-of-type {\n",
              "        vertical-align: middle;\n",
              "    }\n",
              "\n",
              "    .dataframe tbody tr th {\n",
              "        vertical-align: top;\n",
              "    }\n",
              "\n",
              "    .dataframe thead th {\n",
              "        text-align: right;\n",
              "    }\n",
              "</style>\n",
              "<table border=\"1\" class=\"dataframe\">\n",
              "  <thead>\n",
              "    <tr style=\"text-align: right;\">\n",
              "      <th></th>\n",
              "      <th>user_id</th>\n",
              "      <th>item_id</th>\n",
              "      <th>rating</th>\n",
              "      <th>timestamp</th>\n",
              "    </tr>\n",
              "  </thead>\n",
              "  <tbody>\n",
              "    <tr>\n",
              "      <th>99995</th>\n",
              "      <td>880</td>\n",
              "      <td>476</td>\n",
              "      <td>3</td>\n",
              "      <td>880175444</td>\n",
              "    </tr>\n",
              "    <tr>\n",
              "      <th>99996</th>\n",
              "      <td>716</td>\n",
              "      <td>204</td>\n",
              "      <td>5</td>\n",
              "      <td>879795543</td>\n",
              "    </tr>\n",
              "    <tr>\n",
              "      <th>99997</th>\n",
              "      <td>276</td>\n",
              "      <td>1090</td>\n",
              "      <td>1</td>\n",
              "      <td>874795795</td>\n",
              "    </tr>\n",
              "    <tr>\n",
              "      <th>99998</th>\n",
              "      <td>13</td>\n",
              "      <td>225</td>\n",
              "      <td>2</td>\n",
              "      <td>882399156</td>\n",
              "    </tr>\n",
              "    <tr>\n",
              "      <th>99999</th>\n",
              "      <td>12</td>\n",
              "      <td>203</td>\n",
              "      <td>3</td>\n",
              "      <td>879959583</td>\n",
              "    </tr>\n",
              "  </tbody>\n",
              "</table>\n",
              "</div>\n",
              "    <div class=\"colab-df-buttons\">\n",
              "\n",
              "  <div class=\"colab-df-container\">\n",
              "    <button class=\"colab-df-convert\" onclick=\"convertToInteractive('df-2b054625-abd9-460b-bcc1-7fc4c7ef12c6')\"\n",
              "            title=\"Convert this dataframe to an interactive table.\"\n",
              "            style=\"display:none;\">\n",
              "\n",
              "  <svg xmlns=\"http://www.w3.org/2000/svg\" height=\"24px\" viewBox=\"0 -960 960 960\">\n",
              "    <path d=\"M120-120v-720h720v720H120Zm60-500h600v-160H180v160Zm220 220h160v-160H400v160Zm0 220h160v-160H400v160ZM180-400h160v-160H180v160Zm440 0h160v-160H620v160ZM180-180h160v-160H180v160Zm440 0h160v-160H620v160Z\"/>\n",
              "  </svg>\n",
              "    </button>\n",
              "\n",
              "  <style>\n",
              "    .colab-df-container {\n",
              "      display:flex;\n",
              "      gap: 12px;\n",
              "    }\n",
              "\n",
              "    .colab-df-convert {\n",
              "      background-color: #E8F0FE;\n",
              "      border: none;\n",
              "      border-radius: 50%;\n",
              "      cursor: pointer;\n",
              "      display: none;\n",
              "      fill: #1967D2;\n",
              "      height: 32px;\n",
              "      padding: 0 0 0 0;\n",
              "      width: 32px;\n",
              "    }\n",
              "\n",
              "    .colab-df-convert:hover {\n",
              "      background-color: #E2EBFA;\n",
              "      box-shadow: 0px 1px 2px rgba(60, 64, 67, 0.3), 0px 1px 3px 1px rgba(60, 64, 67, 0.15);\n",
              "      fill: #174EA6;\n",
              "    }\n",
              "\n",
              "    .colab-df-buttons div {\n",
              "      margin-bottom: 4px;\n",
              "    }\n",
              "\n",
              "    [theme=dark] .colab-df-convert {\n",
              "      background-color: #3B4455;\n",
              "      fill: #D2E3FC;\n",
              "    }\n",
              "\n",
              "    [theme=dark] .colab-df-convert:hover {\n",
              "      background-color: #434B5C;\n",
              "      box-shadow: 0px 1px 3px 1px rgba(0, 0, 0, 0.15);\n",
              "      filter: drop-shadow(0px 1px 2px rgba(0, 0, 0, 0.3));\n",
              "      fill: #FFFFFF;\n",
              "    }\n",
              "  </style>\n",
              "\n",
              "    <script>\n",
              "      const buttonEl =\n",
              "        document.querySelector('#df-2b054625-abd9-460b-bcc1-7fc4c7ef12c6 button.colab-df-convert');\n",
              "      buttonEl.style.display =\n",
              "        google.colab.kernel.accessAllowed ? 'block' : 'none';\n",
              "\n",
              "      async function convertToInteractive(key) {\n",
              "        const element = document.querySelector('#df-2b054625-abd9-460b-bcc1-7fc4c7ef12c6');\n",
              "        const dataTable =\n",
              "          await google.colab.kernel.invokeFunction('convertToInteractive',\n",
              "                                                    [key], {});\n",
              "        if (!dataTable) return;\n",
              "\n",
              "        const docLinkHtml = 'Like what you see? Visit the ' +\n",
              "          '<a target=\"_blank\" href=https://colab.research.google.com/notebooks/data_table.ipynb>data table notebook</a>'\n",
              "          + ' to learn more about interactive tables.';\n",
              "        element.innerHTML = '';\n",
              "        dataTable['output_type'] = 'display_data';\n",
              "        await google.colab.output.renderOutput(dataTable, element);\n",
              "        const docLink = document.createElement('div');\n",
              "        docLink.innerHTML = docLinkHtml;\n",
              "        element.appendChild(docLink);\n",
              "      }\n",
              "    </script>\n",
              "  </div>\n",
              "\n",
              "\n",
              "<div id=\"df-0bc606d8-8c2d-4fd5-ae9e-c506a85f1b95\">\n",
              "  <button class=\"colab-df-quickchart\" onclick=\"quickchart('df-0bc606d8-8c2d-4fd5-ae9e-c506a85f1b95')\"\n",
              "            title=\"Suggest charts\"\n",
              "            style=\"display:none;\">\n",
              "\n",
              "<svg xmlns=\"http://www.w3.org/2000/svg\" height=\"24px\"viewBox=\"0 0 24 24\"\n",
              "     width=\"24px\">\n",
              "    <g>\n",
              "        <path d=\"M19 3H5c-1.1 0-2 .9-2 2v14c0 1.1.9 2 2 2h14c1.1 0 2-.9 2-2V5c0-1.1-.9-2-2-2zM9 17H7v-7h2v7zm4 0h-2V7h2v10zm4 0h-2v-4h2v4z\"/>\n",
              "    </g>\n",
              "</svg>\n",
              "  </button>\n",
              "\n",
              "<style>\n",
              "  .colab-df-quickchart {\n",
              "      --bg-color: #E8F0FE;\n",
              "      --fill-color: #1967D2;\n",
              "      --hover-bg-color: #E2EBFA;\n",
              "      --hover-fill-color: #174EA6;\n",
              "      --disabled-fill-color: #AAA;\n",
              "      --disabled-bg-color: #DDD;\n",
              "  }\n",
              "\n",
              "  [theme=dark] .colab-df-quickchart {\n",
              "      --bg-color: #3B4455;\n",
              "      --fill-color: #D2E3FC;\n",
              "      --hover-bg-color: #434B5C;\n",
              "      --hover-fill-color: #FFFFFF;\n",
              "      --disabled-bg-color: #3B4455;\n",
              "      --disabled-fill-color: #666;\n",
              "  }\n",
              "\n",
              "  .colab-df-quickchart {\n",
              "    background-color: var(--bg-color);\n",
              "    border: none;\n",
              "    border-radius: 50%;\n",
              "    cursor: pointer;\n",
              "    display: none;\n",
              "    fill: var(--fill-color);\n",
              "    height: 32px;\n",
              "    padding: 0;\n",
              "    width: 32px;\n",
              "  }\n",
              "\n",
              "  .colab-df-quickchart:hover {\n",
              "    background-color: var(--hover-bg-color);\n",
              "    box-shadow: 0 1px 2px rgba(60, 64, 67, 0.3), 0 1px 3px 1px rgba(60, 64, 67, 0.15);\n",
              "    fill: var(--button-hover-fill-color);\n",
              "  }\n",
              "\n",
              "  .colab-df-quickchart-complete:disabled,\n",
              "  .colab-df-quickchart-complete:disabled:hover {\n",
              "    background-color: var(--disabled-bg-color);\n",
              "    fill: var(--disabled-fill-color);\n",
              "    box-shadow: none;\n",
              "  }\n",
              "\n",
              "  .colab-df-spinner {\n",
              "    border: 2px solid var(--fill-color);\n",
              "    border-color: transparent;\n",
              "    border-bottom-color: var(--fill-color);\n",
              "    animation:\n",
              "      spin 1s steps(1) infinite;\n",
              "  }\n",
              "\n",
              "  @keyframes spin {\n",
              "    0% {\n",
              "      border-color: transparent;\n",
              "      border-bottom-color: var(--fill-color);\n",
              "      border-left-color: var(--fill-color);\n",
              "    }\n",
              "    20% {\n",
              "      border-color: transparent;\n",
              "      border-left-color: var(--fill-color);\n",
              "      border-top-color: var(--fill-color);\n",
              "    }\n",
              "    30% {\n",
              "      border-color: transparent;\n",
              "      border-left-color: var(--fill-color);\n",
              "      border-top-color: var(--fill-color);\n",
              "      border-right-color: var(--fill-color);\n",
              "    }\n",
              "    40% {\n",
              "      border-color: transparent;\n",
              "      border-right-color: var(--fill-color);\n",
              "      border-top-color: var(--fill-color);\n",
              "    }\n",
              "    60% {\n",
              "      border-color: transparent;\n",
              "      border-right-color: var(--fill-color);\n",
              "    }\n",
              "    80% {\n",
              "      border-color: transparent;\n",
              "      border-right-color: var(--fill-color);\n",
              "      border-bottom-color: var(--fill-color);\n",
              "    }\n",
              "    90% {\n",
              "      border-color: transparent;\n",
              "      border-bottom-color: var(--fill-color);\n",
              "    }\n",
              "  }\n",
              "</style>\n",
              "\n",
              "  <script>\n",
              "    async function quickchart(key) {\n",
              "      const quickchartButtonEl =\n",
              "        document.querySelector('#' + key + ' button');\n",
              "      quickchartButtonEl.disabled = true;  // To prevent multiple clicks.\n",
              "      quickchartButtonEl.classList.add('colab-df-spinner');\n",
              "      try {\n",
              "        const charts = await google.colab.kernel.invokeFunction(\n",
              "            'suggestCharts', [key], {});\n",
              "      } catch (error) {\n",
              "        console.error('Error during call to suggestCharts:', error);\n",
              "      }\n",
              "      quickchartButtonEl.classList.remove('colab-df-spinner');\n",
              "      quickchartButtonEl.classList.add('colab-df-quickchart-complete');\n",
              "    }\n",
              "    (() => {\n",
              "      let quickchartButtonEl =\n",
              "        document.querySelector('#df-0bc606d8-8c2d-4fd5-ae9e-c506a85f1b95 button');\n",
              "      quickchartButtonEl.style.display =\n",
              "        google.colab.kernel.accessAllowed ? 'block' : 'none';\n",
              "    })();\n",
              "  </script>\n",
              "</div>\n",
              "    </div>\n",
              "  </div>\n"
            ],
            "application/vnd.google.colaboratory.intrinsic+json": {
              "type": "dataframe",
              "summary": "{\n  \"name\": \"df\",\n  \"rows\": 5,\n  \"fields\": [\n    {\n      \"column\": \"user_id\",\n      \"properties\": {\n        \"dtype\": \"number\",\n        \"std\": 401,\n        \"min\": 12,\n        \"max\": 880,\n        \"num_unique_values\": 5,\n        \"samples\": [\n          716,\n          12,\n          276\n        ],\n        \"semantic_type\": \"\",\n        \"description\": \"\"\n      }\n    },\n    {\n      \"column\": \"item_id\",\n      \"properties\": {\n        \"dtype\": \"number\",\n        \"std\": 381,\n        \"min\": 203,\n        \"max\": 1090,\n        \"num_unique_values\": 5,\n        \"samples\": [\n          204,\n          203,\n          1090\n        ],\n        \"semantic_type\": \"\",\n        \"description\": \"\"\n      }\n    },\n    {\n      \"column\": \"rating\",\n      \"properties\": {\n        \"dtype\": \"number\",\n        \"std\": 1,\n        \"min\": 1,\n        \"max\": 5,\n        \"num_unique_values\": 4,\n        \"samples\": [\n          5,\n          2,\n          3\n        ],\n        \"semantic_type\": \"\",\n        \"description\": \"\"\n      }\n    },\n    {\n      \"column\": \"timestamp\",\n      \"properties\": {\n        \"dtype\": \"number\",\n        \"std\": 2795594,\n        \"min\": 874795795,\n        \"max\": 882399156,\n        \"num_unique_values\": 5,\n        \"samples\": [\n          879795543,\n          879959583,\n          874795795\n        ],\n        \"semantic_type\": \"\",\n        \"description\": \"\"\n      }\n    }\n  ]\n}"
            }
          },
          "metadata": {},
          "execution_count": 80
        }
      ],
      "source": [
        "df.tail()"
      ]
    },
    {
      "cell_type": "markdown",
      "metadata": {
        "id": "x2rTXtkimO60"
      },
      "source": [
        "Check if every pair (user, item) appears only once"
      ]
    },
    {
      "cell_type": "code",
      "execution_count": null,
      "metadata": {
        "colab": {
          "base_uri": "https://localhost:8080/"
        },
        "id": "0vzUtGcImO61",
        "outputId": "bff417ea-e7b9-4270-e40f-38b89c363ac7"
      },
      "outputs": [
        {
          "output_type": "execute_result",
          "data": {
            "text/plain": [
              "1"
            ]
          },
          "metadata": {},
          "execution_count": 81
        }
      ],
      "source": [
        "df.groupby(['user_id','item_id']).count().reset_index()['timestamp'].max()"
      ]
    },
    {
      "cell_type": "markdown",
      "metadata": {
        "id": "9sNZ7VR2mO61"
      },
      "source": [
        "Check for nan"
      ]
    },
    {
      "cell_type": "code",
      "execution_count": null,
      "metadata": {
        "colab": {
          "base_uri": "https://localhost:8080/"
        },
        "id": "EXdpl-zImO61",
        "outputId": "1046cac5-4883-4747-ecbb-151889fadd68"
      },
      "outputs": [
        {
          "output_type": "execute_result",
          "data": {
            "text/plain": [
              "array([3, 1, 2, 4, 5])"
            ]
          },
          "metadata": {},
          "execution_count": 82
        }
      ],
      "source": [
        "df['rating'].unique()"
      ]
    },
    {
      "cell_type": "markdown",
      "metadata": {
        "id": "ksZ1uFSemO61"
      },
      "source": [
        "Ratings distribution"
      ]
    },
    {
      "cell_type": "code",
      "execution_count": null,
      "metadata": {
        "colab": {
          "base_uri": "https://localhost:8080/",
          "height": 447
        },
        "id": "W95umu2-mO61",
        "outputId": "a922c88c-01f0-4d9a-c237-fa6ea855205b"
      },
      "outputs": [
        {
          "output_type": "execute_result",
          "data": {
            "text/plain": [
              "<Axes: ylabel='Frequency'>"
            ]
          },
          "metadata": {},
          "execution_count": 83
        },
        {
          "output_type": "display_data",
          "data": {
            "text/plain": [
              "<Figure size 640x480 with 1 Axes>"
            ],
            "image/png": "[encoded data removed]"
          },
          "metadata": {}
        }
      ],
      "source": [
        "df['rating'].plot.hist(xticks=[1,2,3,4,5])"
      ]
    },
    {
      "cell_type": "markdown",
      "metadata": {
        "id": "KUbQ3-YbmO61"
      },
      "source": [
        "Choose one movie from u.info file and check its ratings"
      ]
    },
    {
      "cell_type": "code",
      "execution_count": null,
      "metadata": {
        "colab": {
          "base_uri": "https://localhost:8080/",
          "height": 447
        },
        "id": "YGdOEMjbmO62",
        "outputId": "c3711d80-8a6c-4ce7-fdea-63be8b1dcac1"
      },
      "outputs": [
        {
          "output_type": "execute_result",
          "data": {
            "text/plain": [
              "<Axes: ylabel='Frequency'>"
            ]
          },
          "metadata": {},
          "execution_count": 84
        },
        {
          "output_type": "display_data",
          "data": {
            "text/plain": [
              "<Figure size 640x480 with 1 Axes>"
            ],
            "image/png": "[encoded data removed]"
          },
          "metadata": {}
        }
      ],
      "source": [
        "df[df.item_id == 168]['rating'].plot.hist(xticks=[1,2,3,4,5])"
      ]
    },
    {
      "cell_type": "markdown",
      "metadata": {
        "id": "ZC8yQZrEmO62"
      },
      "source": [
        "#### Sparsity"
      ]
    },
    {
      "cell_type": "code",
      "execution_count": null,
      "metadata": {
        "colab": {
          "base_uri": "https://localhost:8080/",
          "height": 238
        },
        "id": "054m2VHkmO62",
        "outputId": "c1487d01-b18d-4133-8ebc-50ad6a049698"
      },
      "outputs": [
        {
          "output_type": "execute_result",
          "data": {
            "text/plain": [
              "         rating_count\n",
              "user_id              \n",
              "405               737\n",
              "655               685\n",
              "13                636\n",
              "450               540\n",
              "276               518"
            ],
            "text/html": [
              "\n",
              "  <div id=\"df-a926059b-21eb-493e-99d1-ab60c46009b4\" class=\"colab-df-container\">\n",
              "    <div>\n",
              "<style scoped>\n",
              "    .dataframe tbody tr th:only-of-type {\n",
              "        vertical-align: middle;\n",
              "    }\n",
              "\n",
              "    .dataframe tbody tr th {\n",
              "        vertical-align: top;\n",
              "    }\n",
              "\n",
              "    .dataframe thead th {\n",
              "        text-align: right;\n",
              "    }\n",
              "</style>\n",
              "<table border=\"1\" class=\"dataframe\">\n",
              "  <thead>\n",
              "    <tr style=\"text-align: right;\">\n",
              "      <th></th>\n",
              "      <th>rating_count</th>\n",
              "    </tr>\n",
              "    <tr>\n",
              "      <th>user_id</th>\n",
              "      <th></th>\n",
              "    </tr>\n",
              "  </thead>\n",
              "  <tbody>\n",
              "    <tr>\n",
              "      <th>405</th>\n",
              "      <td>737</td>\n",
              "    </tr>\n",
              "    <tr>\n",
              "      <th>655</th>\n",
              "      <td>685</td>\n",
              "    </tr>\n",
              "    <tr>\n",
              "      <th>13</th>\n",
              "      <td>636</td>\n",
              "    </tr>\n",
              "    <tr>\n",
              "      <th>450</th>\n",
              "      <td>540</td>\n",
              "    </tr>\n",
              "    <tr>\n",
              "      <th>276</th>\n",
              "      <td>518</td>\n",
              "    </tr>\n",
              "  </tbody>\n",
              "</table>\n",
              "</div>\n",
              "    <div class=\"colab-df-buttons\">\n",
              "\n",
              "  <div class=\"colab-df-container\">\n",
              "    <button class=\"colab-df-convert\" onclick=\"convertToInteractive('df-a926059b-21eb-493e-99d1-ab60c46009b4')\"\n",
              "            title=\"Convert this dataframe to an interactive table.\"\n",
              "            style=\"display:none;\">\n",
              "\n",
              "  <svg xmlns=\"http://www.w3.org/2000/svg\" height=\"24px\" viewBox=\"0 -960 960 960\">\n",
              "    <path d=\"M120-120v-720h720v720H120Zm60-500h600v-160H180v160Zm220 220h160v-160H400v160Zm0 220h160v-160H400v160ZM180-400h160v-160H180v160Zm440 0h160v-160H620v160ZM180-180h160v-160H180v160Zm440 0h160v-160H620v160Z\"/>\n",
              "  </svg>\n",
              "    </button>\n",
              "\n",
              "  <style>\n",
              "    .colab-df-container {\n",
              "      display:flex;\n",
              "      gap: 12px;\n",
              "    }\n",
              "\n",
              "    .colab-df-convert {\n",
              "      background-color: #E8F0FE;\n",
              "      border: none;\n",
              "      border-radius: 50%;\n",
              "      cursor: pointer;\n",
              "      display: none;\n",
              "      fill: #1967D2;\n",
              "      height: 32px;\n",
              "      padding: 0 0 0 0;\n",
              "      width: 32px;\n",
              "    }\n",
              "\n",
              "    .colab-df-convert:hover {\n",
              "      background-color: #E2EBFA;\n",
              "      box-shadow: 0px 1px 2px rgba(60, 64, 67, 0.3), 0px 1px 3px 1px rgba(60, 64, 67, 0.15);\n",
              "      fill: #174EA6;\n",
              "    }\n",
              "\n",
              "    .colab-df-buttons div {\n",
              "      margin-bottom: 4px;\n",
              "    }\n",
              "\n",
              "    [theme=dark] .colab-df-convert {\n",
              "      background-color: #3B4455;\n",
              "      fill: #D2E3FC;\n",
              "    }\n",
              "\n",
              "    [theme=dark] .colab-df-convert:hover {\n",
              "      background-color: #434B5C;\n",
              "      box-shadow: 0px 1px 3px 1px rgba(0, 0, 0, 0.15);\n",
              "      filter: drop-shadow(0px 1px 2px rgba(0, 0, 0, 0.3));\n",
              "      fill: #FFFFFF;\n",
              "    }\n",
              "  </style>\n",
              "\n",
              "    <script>\n",
              "      const buttonEl =\n",
              "        document.querySelector('#df-a926059b-21eb-493e-99d1-ab60c46009b4 button.colab-df-convert');\n",
              "      buttonEl.style.display =\n",
              "        google.colab.kernel.accessAllowed ? 'block' : 'none';\n",
              "\n",
              "      async function convertToInteractive(key) {\n",
              "        const element = document.querySelector('#df-a926059b-21eb-493e-99d1-ab60c46009b4');\n",
              "        const dataTable =\n",
              "          await google.colab.kernel.invokeFunction('convertToInteractive',\n",
              "                                                    [key], {});\n",
              "        if (!dataTable) return;\n",
              "\n",
              "        const docLinkHtml = 'Like what you see? Visit the ' +\n",
              "          '<a target=\"_blank\" href=https://colab.research.google.com/notebooks/data_table.ipynb>data table notebook</a>'\n",
              "          + ' to learn more about interactive tables.';\n",
              "        element.innerHTML = '';\n",
              "        dataTable['output_type'] = 'display_data';\n",
              "        await google.colab.output.renderOutput(dataTable, element);\n",
              "        const docLink = document.createElement('div');\n",
              "        docLink.innerHTML = docLinkHtml;\n",
              "        element.appendChild(docLink);\n",
              "      }\n",
              "    </script>\n",
              "  </div>\n",
              "\n",
              "\n",
              "<div id=\"df-085e1f29-b082-421d-a4db-8d3d86edfdfb\">\n",
              "  <button class=\"colab-df-quickchart\" onclick=\"quickchart('df-085e1f29-b082-421d-a4db-8d3d86edfdfb')\"\n",
              "            title=\"Suggest charts\"\n",
              "            style=\"display:none;\">\n",
              "\n",
              "<svg xmlns=\"http://www.w3.org/2000/svg\" height=\"24px\"viewBox=\"0 0 24 24\"\n",
              "     width=\"24px\">\n",
              "    <g>\n",
              "        <path d=\"M19 3H5c-1.1 0-2 .9-2 2v14c0 1.1.9 2 2 2h14c1.1 0 2-.9 2-2V5c0-1.1-.9-2-2-2zM9 17H7v-7h2v7zm4 0h-2V7h2v10zm4 0h-2v-4h2v4z\"/>\n",
              "    </g>\n",
              "</svg>\n",
              "  </button>\n",
              "\n",
              "<style>\n",
              "  .colab-df-quickchart {\n",
              "      --bg-color: #E8F0FE;\n",
              "      --fill-color: #1967D2;\n",
              "      --hover-bg-color: #E2EBFA;\n",
              "      --hover-fill-color: #174EA6;\n",
              "      --disabled-fill-color: #AAA;\n",
              "      --disabled-bg-color: #DDD;\n",
              "  }\n",
              "\n",
              "  [theme=dark] .colab-df-quickchart {\n",
              "      --bg-color: #3B4455;\n",
              "      --fill-color: #D2E3FC;\n",
              "      --hover-bg-color: #434B5C;\n",
              "      --hover-fill-color: #FFFFFF;\n",
              "      --disabled-bg-color: #3B4455;\n",
              "      --disabled-fill-color: #666;\n",
              "  }\n",
              "\n",
              "  .colab-df-quickchart {\n",
              "    background-color: var(--bg-color);\n",
              "    border: none;\n",
              "    border-radius: 50%;\n",
              "    cursor: pointer;\n",
              "    display: none;\n",
              "    fill: var(--fill-color);\n",
              "    height: 32px;\n",
              "    padding: 0;\n",
              "    width: 32px;\n",
              "  }\n",
              "\n",
              "  .colab-df-quickchart:hover {\n",
              "    background-color: var(--hover-bg-color);\n",
              "    box-shadow: 0 1px 2px rgba(60, 64, 67, 0.3), 0 1px 3px 1px rgba(60, 64, 67, 0.15);\n",
              "    fill: var(--button-hover-fill-color);\n",
              "  }\n",
              "\n",
              "  .colab-df-quickchart-complete:disabled,\n",
              "  .colab-df-quickchart-complete:disabled:hover {\n",
              "    background-color: var(--disabled-bg-color);\n",
              "    fill: var(--disabled-fill-color);\n",
              "    box-shadow: none;\n",
              "  }\n",
              "\n",
              "  .colab-df-spinner {\n",
              "    border: 2px solid var(--fill-color);\n",
              "    border-color: transparent;\n",
              "    border-bottom-color: var(--fill-color);\n",
              "    animation:\n",
              "      spin 1s steps(1) infinite;\n",
              "  }\n",
              "\n",
              "  @keyframes spin {\n",
              "    0% {\n",
              "      border-color: transparent;\n",
              "      border-bottom-color: var(--fill-color);\n",
              "      border-left-color: var(--fill-color);\n",
              "    }\n",
              "    20% {\n",
              "      border-color: transparent;\n",
              "      border-left-color: var(--fill-color);\n",
              "      border-top-color: var(--fill-color);\n",
              "    }\n",
              "    30% {\n",
              "      border-color: transparent;\n",
              "      border-left-color: var(--fill-color);\n",
              "      border-top-color: var(--fill-color);\n",
              "      border-right-color: var(--fill-color);\n",
              "    }\n",
              "    40% {\n",
              "      border-color: transparent;\n",
              "      border-right-color: var(--fill-color);\n",
              "      border-top-color: var(--fill-color);\n",
              "    }\n",
              "    60% {\n",
              "      border-color: transparent;\n",
              "      border-right-color: var(--fill-color);\n",
              "    }\n",
              "    80% {\n",
              "      border-color: transparent;\n",
              "      border-right-color: var(--fill-color);\n",
              "      border-bottom-color: var(--fill-color);\n",
              "    }\n",
              "    90% {\n",
              "      border-color: transparent;\n",
              "      border-bottom-color: var(--fill-color);\n",
              "    }\n",
              "  }\n",
              "</style>\n",
              "\n",
              "  <script>\n",
              "    async function quickchart(key) {\n",
              "      const quickchartButtonEl =\n",
              "        document.querySelector('#' + key + ' button');\n",
              "      quickchartButtonEl.disabled = true;  // To prevent multiple clicks.\n",
              "      quickchartButtonEl.classList.add('colab-df-spinner');\n",
              "      try {\n",
              "        const charts = await google.colab.kernel.invokeFunction(\n",
              "            'suggestCharts', [key], {});\n",
              "      } catch (error) {\n",
              "        console.error('Error during call to suggestCharts:', error);\n",
              "      }\n",
              "      quickchartButtonEl.classList.remove('colab-df-spinner');\n",
              "      quickchartButtonEl.classList.add('colab-df-quickchart-complete');\n",
              "    }\n",
              "    (() => {\n",
              "      let quickchartButtonEl =\n",
              "        document.querySelector('#df-085e1f29-b082-421d-a4db-8d3d86edfdfb button');\n",
              "      quickchartButtonEl.style.display =\n",
              "        google.colab.kernel.accessAllowed ? 'block' : 'none';\n",
              "    })();\n",
              "  </script>\n",
              "</div>\n",
              "    </div>\n",
              "  </div>\n"
            ],
            "application/vnd.google.colaboratory.intrinsic+json": {
              "type": "dataframe",
              "variable_name": "grouped",
              "summary": "{\n  \"name\": \"grouped\",\n  \"rows\": 943,\n  \"fields\": [\n    {\n      \"column\": \"user_id\",\n      \"properties\": {\n        \"dtype\": \"number\",\n        \"std\": 272,\n        \"min\": 1,\n        \"max\": 943,\n        \"num_unique_values\": 943,\n        \"samples\": [\n          932,\n          493,\n          816\n        ],\n        \"semantic_type\": \"\",\n        \"description\": \"\"\n      }\n    },\n    {\n      \"column\": \"rating_count\",\n      \"properties\": {\n        \"dtype\": \"number\",\n        \"std\": 100,\n        \"min\": 20,\n        \"max\": 737,\n        \"num_unique_values\": 279,\n        \"samples\": [\n          353,\n          184,\n          102\n        ],\n        \"semantic_type\": \"\",\n        \"description\": \"\"\n      }\n    }\n  ]\n}"
            }
          },
          "metadata": {},
          "execution_count": 85
        }
      ],
      "source": [
        "grouped = df[['user_id', 'item_id']].groupby('user_id').count() \\\n",
        "            .rename(columns={'item_id' : 'rating_count' }).sort_values('rating_count',ascending=False)\n",
        "grouped.head()"
      ]
    },
    {
      "cell_type": "code",
      "execution_count": null,
      "metadata": {
        "colab": {
          "base_uri": "https://localhost:8080/"
        },
        "id": "V8Y5s4r9mO62",
        "outputId": "6017abe8-f3dc-46e6-c85b-665c0590ebea"
      },
      "outputs": [
        {
          "output_type": "stream",
          "name": "stdout",
          "text": [
            "         rating_count  sparsity\n",
            "user_id                        \n",
            "405               737  0.561831\n",
            "655               685  0.592747\n",
            "13                636  0.621879\n",
            "450               540  0.678954\n",
            "276               518  0.692033\n",
            "         rating_count  sparsity\n",
            "user_id                        \n",
            "685                20  0.988109\n",
            "475                20  0.988109\n",
            "36                 20  0.988109\n",
            "732                20  0.988109\n",
            "596                20  0.988109\n"
          ]
        }
      ],
      "source": [
        "grouped['sparsity'] = 1.0 - grouped.rating_count / float(movies_num)\n",
        "print(grouped.head())\n",
        "print(grouped.tail())"
      ]
    },
    {
      "cell_type": "code",
      "execution_count": null,
      "metadata": {
        "colab": {
          "base_uri": "https://localhost:8080/"
        },
        "id": "gJCPKoEbmO62",
        "outputId": "0d6d43c3-4be0-4041-fcfa-7d98272b6219"
      },
      "outputs": [
        {
          "output_type": "execute_result",
          "data": {
            "text/plain": [
              "0.9369533063577546"
            ]
          },
          "metadata": {},
          "execution_count": 87
        }
      ],
      "source": [
        "np.average(grouped['sparsity'])"
      ]
    },
    {
      "cell_type": "code",
      "execution_count": null,
      "metadata": {
        "colab": {
          "base_uri": "https://localhost:8080/",
          "height": 447
        },
        "id": "z21nbTRjmO62",
        "outputId": "9d70f617-9962-4d13-e228-ad3f8b3f76bb"
      },
      "outputs": [
        {
          "output_type": "execute_result",
          "data": {
            "text/plain": [
              "<Axes: ylabel='Frequency'>"
            ]
          },
          "metadata": {},
          "execution_count": 88
        },
        {
          "output_type": "display_data",
          "data": {
            "text/plain": [
              "<Figure size 640x480 with 1 Axes>"
            ],
            "image/png": "[encoded data removed]"
          },
          "metadata": {}
        }
      ],
      "source": [
        "grouped['sparsity'].plot.hist(xticks=[i*0.1 for i in range(1,11)])"
      ]
    },
    {
      "cell_type": "code",
      "execution_count": null,
      "metadata": {
        "colab": {
          "base_uri": "https://localhost:8080/",
          "height": 447
        },
        "id": "wdpUEiQumO63",
        "outputId": "d6e29b54-0840-4c4d-bb54-280c31053847"
      },
      "outputs": [
        {
          "output_type": "execute_result",
          "data": {
            "text/plain": [
              "<Axes: ylabel='Frequency'>"
            ]
          },
          "metadata": {},
          "execution_count": 89
        },
        {
          "output_type": "display_data",
          "data": {
            "text/plain": [
              "<Figure size 640x480 with 1 Axes>"
            ],
            "image/png": "[encoded data removed]"
          },
          "metadata": {}
        }
      ],
      "source": [
        "grouped['sparsity'].plot.hist(xticks=[0.5+i*0.05 for i in range(10)])"
      ]
    },
    {
      "cell_type": "markdown",
      "metadata": {
        "id": "ccg1akucmO63"
      },
      "source": [
        "Reindex ids to numpy's like"
      ]
    },
    {
      "cell_type": "code",
      "execution_count": null,
      "metadata": {
        "colab": {
          "base_uri": "https://localhost:8080/"
        },
        "id": "8H0ARc8XmO63",
        "outputId": "28a12004-0cf4-4dd4-9083-235a4a9abea7"
      },
      "outputs": [
        {
          "output_type": "execute_result",
          "data": {
            "text/plain": [
              "[(1, 943), (1, 1682)]"
            ]
          },
          "metadata": {},
          "execution_count": 90
        }
      ],
      "source": [
        "[(df[x].min(),df[x].max()) for  x in ['user_id', 'item_id']]"
      ]
    },
    {
      "cell_type": "code",
      "execution_count": null,
      "metadata": {
        "id": "oQiuRT9hmO63"
      },
      "outputs": [],
      "source": [
        "for col in  ['user_id', 'item_id']:\n",
        "    df[col] = df[col]-1"
      ]
    },
    {
      "cell_type": "code",
      "execution_count": null,
      "metadata": {
        "colab": {
          "base_uri": "https://localhost:8080/"
        },
        "id": "8bX1NHfumO63",
        "outputId": "e7010f7e-8514-431b-dfdd-85f75d772847"
      },
      "outputs": [
        {
          "output_type": "execute_result",
          "data": {
            "text/plain": [
              "[(0, 942), (0, 1681)]"
            ]
          },
          "metadata": {},
          "execution_count": 92
        }
      ],
      "source": [
        "[(df[x].min(),df[x].max()) for  x in ['user_id', 'item_id']]"
      ]
    },
    {
      "cell_type": "markdown",
      "metadata": {
        "id": "B0gmJG9bmO63"
      },
      "source": [
        "# User-User CF"
      ]
    },
    {
      "cell_type": "markdown",
      "metadata": {
        "id": "OlJ2e_GVmO63"
      },
      "source": [
        "Firstly we want to have our data in form of matrix, where rows coresponds to users, columns to items and values to ratings\n",
        "\n",
        "YOUR TASK:\n",
        "1. get reccomendation matrix, where users are in rows and movies are in columns\n",
        "2. What to do with missing values (i.e. pairs of users,movie that have no rating in our dataset)?\n",
        "3. We want this matrix to be called 'ratings_matrix' and be a np.ndarray type\n",
        "\n",
        "tip: check dataframe.pivot or pd.crosstab"
      ]
    },
    {
      "cell_type": "markdown",
      "metadata": {
        "id": "wVCMsxKkmO64"
      },
      "source": [
        "Similarity functions:\n",
        "* Jackard similarity\n",
        "* cosine similarity\n",
        "* Pearson correlation"
      ]
    },
    {
      "cell_type": "code",
      "source": [
        "ratings_matrix = np.array(df.pivot(index='user_id', columns='item_id', values='rating').fillna(0).values)\n",
        "\n",
        "# Function to calculate Jaccard similarity distance\n",
        "def jackard_similarity_distance(M):\n",
        "    n, k = M.shape\n",
        "    distance_matrix = np.zeros((n, n))\n",
        "    for i in range(n):\n",
        "        for j in range(n):\n",
        "            vec_sum = float(np.count_nonzero(M[i] + M[j]))\n",
        "            if vec_sum == 0:\n",
        "                distance_matrix[i, j] = 1\n",
        "            else:\n",
        "                distance_matrix[i, j] = 1 - np.count_nonzero(M[i] * M[j]) / vec_sum\n",
        "    return distance_matrix\n",
        "\n",
        "\n",
        "jackard_similarity_distance(ratings_matrix).shape"
      ],
      "metadata": {
        "id": "9-jXfmJ0qlVY",
        "outputId": "500f2be2-91dc-42ae-cb2b-469db783eecc",
        "colab": {
          "base_uri": "https://localhost:8080/"
        }
      },
      "execution_count": null,
      "outputs": [
        {
          "output_type": "execute_result",
          "data": {
            "text/plain": [
              "(943, 943)"
            ]
          },
          "metadata": {},
          "execution_count": 112
        }
      ]
    },
    {
      "cell_type": "markdown",
      "metadata": {
        "id": "etRWHFcVmO64"
      },
      "source": [
        "## YOUR TASK\n",
        "1. Implement cosine_similarity_distance based on jackard_similarity_distance\n",
        "2. Implement scipy_pearson_similarity_distance based on jackard_similarity_distance"
      ]
    },
    {
      "cell_type": "code",
      "execution_count": null,
      "metadata": {
        "id": "P00pmhogmO64"
      },
      "outputs": [],
      "source": [
        "#def cosine_similarity_distance(M):\n",
        "#    n,k = M.shape\n",
        "#    distance_matrix = np.array(np.zeros([n,n]))\n",
        "    # insert your code here ~ 7-10 lines\n",
        "#    return distance_matrix # n x n matrix, where M is n x k matrix\n",
        "\n",
        "def cosine_similarity_distance(M):\n",
        "    n, k = M.shape\n",
        "    distance_matrix = np.zeros((n, n))\n",
        "    for i in range(n):\n",
        "        for j in range(n):\n",
        "            if np.count_nonzero(M[i] + M[j]) == 0:\n",
        "                distance_matrix[i, j] = 1\n",
        "            else:\n",
        "                numerator = float(np.sum(M[i] * M[j]))\n",
        "                denominator = np.sqrt(np.sum(M[i] * M[i])) * np.sqrt(np.sum(M[j] * M[j]))\n",
        "                if denominator == 0:\n",
        "                    distance_matrix[i, j] = 1\n",
        "                else:\n",
        "                    distance_matrix[i, j] = 1 - numerator / denominator\n",
        "    return distance_matrix\n"
      ]
    },
    {
      "cell_type": "code",
      "source": [
        "def better_cosine_similarity_distance(M, conf_factor=50.0):\n",
        "    n, k = M.shape\n",
        "    conf_factor = float(min(k, conf_factor))\n",
        "    distance_matrix = np.zeros((n, n))\n",
        "    for i in range(n):\n",
        "        for j in range(n):\n",
        "            vec_sum = float(np.count_nonzero(M[i] + M[j]))\n",
        "            if vec_sum == 0:\n",
        "                distance_matrix[i, j] = 1\n",
        "            else:\n",
        "                v1 = M[i]\n",
        "                v2 = M[j]\n",
        "                nz_idx = np.intersect1d(np.nonzero(v1), np.nonzero(v2))\n",
        "                if len(nz_idx) == 0:\n",
        "                    distance_matrix[i, j] = 1\n",
        "                    continue\n",
        "                v1 = v1[nz_idx]\n",
        "                v2 = v2[nz_idx]\n",
        "                numerator = float(np.sum(v1 * v2))\n",
        "                denominator = np.sqrt(np.sum(v1 * v1)) * np.sqrt(np.sum(v2 * v2))\n",
        "                if denominator == 0:\n",
        "                    distance_matrix[i, j] = 1\n",
        "                else:\n",
        "                    distance_matrix[i, j] = 1 - np.min([1.0, len(nz_idx) / conf_factor]) * numerator / denominator\n",
        "    return distance_matrix"
      ],
      "metadata": {
        "id": "6XsE4f6-a3ti"
      },
      "execution_count": null,
      "outputs": []
    },
    {
      "cell_type": "markdown",
      "metadata": {
        "id": "VMxLqULamO64"
      },
      "source": [
        "#### Can we upgrade this cosine similarity?"
      ]
    },
    {
      "cell_type": "code",
      "execution_count": null,
      "metadata": {
        "id": "LUejOQrXmO64"
      },
      "outputs": [],
      "source": [
        "#from scipy.stats.stats import pearsonr\n",
        "\n",
        "#def scipy_pearson_similarity_distance(M):\n",
        "    # insert your code here ~ 6-8 lines\n",
        "#    return distance_matrix # n x n matrix, where M is n x k matrix\n",
        "\n",
        "\n",
        "def cosine_similarity_distance(M):\n",
        "    n, k = M.shape\n",
        "    distance_matrix = np.zeros((n, n))\n",
        "    for i in range(n):\n",
        "        for j in range(i, n):\n",
        "            if np.count_nonzero(M[i] + M[j]) == 0:\n",
        "                similarity = 0\n",
        "            else:\n",
        "                numerator = np.dot(M[i], M[j])\n",
        "                denominator = np.linalg.norm(M[i]) * np.linalg.norm(M[j])\n",
        "                similarity = numerator / denominator if denominator != 0 else 0\n",
        "            distance_matrix[i, j] = 1 - similarity\n",
        "            distance_matrix[j, i] = 1 - similarity  # Ensure symmetry\n",
        "    return distance_matrix\n",
        "from scipy.stats import pearsonr\n",
        "def scipy_pearson_similarity_distance(M):\n",
        "    n,k = M.shape\n",
        "    distance_matrix = np.zeros([n,n])\n",
        "    for i in range(n):\n",
        "        for j in range(n):\n",
        "            if np.count_nonzero(M[i]*M[j])==0:\n",
        "                distance_matrix[i,j] = 1\n",
        "            else:\n",
        "                distance_matrix[i,j] = 1 - pearsonr(M[i],M[j])[0]\n",
        "    return distance_matrix\n"
      ]
    },
    {
      "cell_type": "markdown",
      "metadata": {
        "id": "1xSKn0nMmO64"
      },
      "source": [
        "## YOUR TASK\n",
        "1. Implement knn that takes similarity_function as one of the inputs\n",
        "2. The function should return idx, sorted_dist - two matrixes:\n",
        " * idx of shape n x k that contains indexes of simmilar users\n",
        " * sorted_dist of shape n x k that contains distances to these users\n"
      ]
    },
    {
      "cell_type": "code",
      "execution_count": null,
      "metadata": {
        "id": "dL_0C4oOmO65"
      },
      "outputs": [],
      "source": [
        "#def knn(ratings_matrix, k, similarity_function):\n",
        "    #insert your code here ~ 3 lines\n",
        "    #check np.argsort\n",
        "#    return idx, sorted_dist # two n x k matrix\n",
        "\n",
        "\n",
        "def knn(ratings_matrix, k, similarity_function):\n",
        "    dist_matrix = similarity_function(ratings_matrix)\n",
        "    idx = np.argsort(dist_matrix)[:, 1:k+1]\n",
        "    sorted_dist = np.take_along_axis(dist_matrix, idx, axis=1)\n",
        "    return idx, sorted_dist\n"
      ]
    },
    {
      "cell_type": "markdown",
      "metadata": {
        "id": "GmZmApgbmO69"
      },
      "source": [
        "## YOUR TASK\n",
        "1. implement calculate_recommendation function - it should return reccomendation_matrix\n",
        "<!--\n",
        "def calculate_recommendation(ratings_matrix, neighbors, distances):\n",
        "    u,k = neighbors.shape\n",
        "    p = ratings_matrix.shape[1]\n",
        "    rating_matrix_ind = np.array(ratings_matrix!=0, dtype=float)\n",
        "    recommendation_matrix = np.zeros([u,p])\n",
        "    for i in range(u):\n",
        "        for j in range(p):\n",
        "            numerator = np.sum((1-distances[i,:])*ratings_matrix[neighbors[i],j])\n",
        "            denominator = np.sum((1-distances[i,:])*rating_matrix_ind[neighbors[i],j])\n",
        "            if(denominator==0):\n",
        "                recommendation_matrix[i,j] = 0\n",
        "            else:\n",
        "                recommendation_matrix[i,j] = numerator / float(denominator)\n",
        "    return recommendation_matrix\n",
        "<!--\n",
        "def get_recommendation(recommendation_matrix, n):\n",
        "    rating_ind = np.array(ratings_matrix!=0, dtype=float)\n",
        "    recommendation = np.argsort(-np.multiply(recommendation_matrix,1-rating_ind))[:,:n]\n",
        "    ratings = np.take_along_axis(recommendation_matrix, recommendation, axis=1)\n",
        "    return recommendation, ratings\n",
        "!-->"
      ]
    },
    {
      "cell_type": "code",
      "execution_count": null,
      "metadata": {
        "id": "S3mlIHTXmO69"
      },
      "outputs": [],
      "source": [
        "#def calculate_recommendation(ratings_matrix, neighbors, distances):\n",
        "     #insert your code here ~ 8-12 lines\n",
        "#    return recommendation_matrix # same shape as ratings_matrix filled with our prediction\n",
        "\n",
        "\n",
        "def knn(ratings_matrix, k, similarity_function):\n",
        "    dist_matrix = similarity_function(ratings_matrix)\n",
        "    idx = np.argsort(dist_matrix)[:, 1:k+1]\n",
        "    sorted_dist = np.take_along_axis(dist_matrix, idx, axis=1)\n",
        "    return idx, sorted_dist\n",
        "\n",
        "def calculate_recommendation(ratings_matrix, neighbors, distances):\n",
        "    num_users, num_neighbors = neighbors.shape\n",
        "    num_items = ratings_matrix.shape[1]\n",
        "    rating_matrix_ind = np.array(ratings_matrix != 0, dtype=float)\n",
        "    recommendation_matrix = np.zeros((num_users, num_items))\n",
        "\n",
        "    for user in range(num_users):\n",
        "        for item in range(num_items):\n",
        "            weights = 1 - distances[user, :]\n",
        "            ratings = ratings_matrix[neighbors[user], item]\n",
        "            indicator = rating_matrix_ind[neighbors[user], item]\n",
        "\n",
        "            numerator = np.sum(weights * ratings)\n",
        "            denominator = np.sum(weights * indicator)\n",
        "\n",
        "            if denominator == 0:\n",
        "                recommendation_matrix[user, item] = 0\n",
        "            else:\n",
        "                recommendation_matrix[user, item] = numerator / denominator\n",
        "\n",
        "    return recommendation_matrix\n"
      ]
    },
    {
      "cell_type": "code",
      "execution_count": null,
      "metadata": {
        "id": "MxuzDafMmO69"
      },
      "outputs": [],
      "source": [
        "#def get_recommendation(recommendation_matrix, n):\n",
        "    # insert your code here ~ 3 lines\n",
        "#    return recommendation, ratings # n recommendations for every user and estimated ratings\n",
        "\n",
        "def get_recommendation(recommendation_matrix, n):\n",
        "    rating_ind = np.array(ratings_matrix != 0, dtype=float)\n",
        "    recommendation = np.argsort(-np.multiply(recommendation_matrix, 1 - rating_ind))[:, :n]\n",
        "    ratings = np.take_along_axis(recommendation_matrix, recommendation, axis=1)\n",
        "    return recommendation, ratings\n",
        "\n"
      ]
    },
    {
      "cell_type": "markdown",
      "metadata": {
        "id": "nBZF9dInmO69"
      },
      "source": [
        "# Item-Item CF"
      ]
    },
    {
      "cell_type": "markdown",
      "metadata": {
        "id": "jVzn79O7mO69"
      },
      "source": [
        "YOUR TASK:\n",
        "1. What we have to change in order to change user-user into item-item approach?\n",
        "\n",
        "<!--\n",
        "\n",
        "def calculate_recommendation_item_based(ratings_matrix, item_neighbors, item_distances): # to get arguments run previous knn\n",
        "    # on ratings_item_matrix\n",
        "    p,k = item_neighbors.shape\n",
        "    u = ratings_matrix.shape[0]\n",
        "    rating_matrix_ind = np.array(ratings_matrix!=0, dtype=float)\n",
        "    recommendation_matrix = np.array(np.zeros(u*p))\n",
        "    recommendation_matrix.shape = (u,p)\n",
        "    for i in range(u):\n",
        "        for j in range(p):\n",
        "            numerator = np.sum((1-item_distances[j,:])*ratings_matrix[i,item_neighbors[j]])\n",
        "            denominator = np.sum((1-item_distances[j,:])*rating_matrix_ind[i, item_neighbors[j]])\n",
        "            if(denominator==0):\n",
        "                recommendation_matrix[i,j] = 0\n",
        "            else:\n",
        "                recommendation_matrix[i,j] = numerator / float(denominator)\n",
        "    return recommendation_matrix\n",
        "\n",
        "-->\n"
      ]
    },
    {
      "cell_type": "markdown",
      "metadata": {
        "id": "zr0eiVDYmO69"
      },
      "source": [
        "<!-- This is commented out. -->"
      ]
    },
    {
      "cell_type": "code",
      "source": [
        "# Create the item-item ratings matrix\n",
        "ratings_item_matrix = np.array(df.pivot(index='item_id', columns='user_id', values='rating').fillna(0).values)\n",
        "ratings_item_matrix\n",
        "ratings_item_ind = np.array(ratings_item_matrix != 0, dtype=float)"
      ],
      "metadata": {
        "id": "E5k_SLZApYvf"
      },
      "execution_count": null,
      "outputs": []
    },
    {
      "cell_type": "code",
      "source": [
        "# Calculate recommendations based on item similarity\n",
        "def calculate_recommendation_item_based(ratings_matrix, item_neighbors, item_distances):\n",
        "    num_items, num_neighbors = item_neighbors.shape\n",
        "    num_users = ratings_matrix.shape[0]\n",
        "    rating_matrix_ind = np.array(ratings_matrix != 0, dtype=float)\n",
        "    recommendation_matrix = np.zeros((num_users, num_items))\n",
        "\n",
        "    for user in range(num_users):\n",
        "        for item in range(num_items):\n",
        "            weights = 1 - item_distances[item, :]\n",
        "            ratings = ratings_matrix[user, item_neighbors[item]]\n",
        "            indicator = rating_matrix_ind[user, item_neighbors[item]]\n",
        "\n",
        "            numerator = np.sum(weights * ratings)\n",
        "            denominator = np.sum(weights * indicator)\n",
        "\n",
        "            if denominator == 0:\n",
        "                recommendation_matrix[user, item] = 0\n",
        "            else:\n",
        "                recommendation_matrix[user, item] = numerator / denominator\n",
        "\n",
        "    return recommendation_matrix\n"
      ],
      "metadata": {
        "id": "L_SjgMptZlRT"
      },
      "execution_count": null,
      "outputs": []
    },
    {
      "cell_type": "code",
      "source": [
        "# Calculate nearest neighbors and distances for items\n",
        "item_neighbors, item_distances = knn(ratings_item_matrix, k=3, similarity_function=cosine_similarity_distance)\n",
        "recommendation_matrix = calculate_recommendation_item_based(ratings_matrix, item_neighbors, item_distances)\n",
        "\n",
        "# Example usage (assuming ratings_matrix is the user-item matrix):\n",
        "# neighbors, distances = knn(ratings_matrix, k=3, similarity_function=cosine_similarity_distance)\n",
        "# recommendation_matrix = calculate_recommendation(ratings_matrix, neighbors, distances)\n",
        "\n",
        "def get_recommendation(recommendation_matrix, n):\n",
        "    rating_ind = np.array(ratings_matrix != 0, dtype=float)\n",
        "    recommendation = np.argsort(-np.multiply(recommendation_matrix, 1 - rating_ind))[:, :n]\n",
        "    ratings = np.take_along_axis(recommendation_matrix, recommendation, axis=1)\n",
        "    return recommendation, ratings"
      ],
      "metadata": {
        "id": "tV1y76UVx5uU"
      },
      "execution_count": null,
      "outputs": []
    },
    {
      "cell_type": "markdown",
      "metadata": {
        "id": "RXwzRrHOmO6-"
      },
      "source": [
        "### RMSE\n",
        "\n",
        "#### YOUR TASK:\n",
        "\n",
        "1. Implement rmse function. it should take ratings_matrix (ground truth), recommendation_matrix (given by model) and information where the test cases are (test_ind). All input matrixes are of the same shape"
      ]
    },
    {
      "cell_type": "code",
      "execution_count": null,
      "metadata": {
        "id": "tG16AeJBmO6-"
      },
      "outputs": [],
      "source": [
        "import numpy as np\n",
        "\n",
        "def rmse(ratings_matrix, recommendation_matrix, test_ind):\n",
        "    # Calculate the difference between the actual ratings and the predicted ratings\n",
        "    difference_matrix = np.multiply((ratings_matrix - recommendation_matrix), test_ind)\n",
        "    # Square the differences\n",
        "    squared_differences = np.square(difference_matrix)\n",
        "    # Sum all the squared differences\n",
        "    sum_squared_differences = np.sum(squared_differences)\n",
        "    # Count the number of test cases\n",
        "    num_test_cases = np.sum(test_ind)\n",
        "    # Calculate RMSE\n",
        "    return np.sqrt(sum_squared_differences / num_test_cases)\n"
      ]
    },
    {
      "cell_type": "markdown",
      "metadata": {
        "id": "dAViheG_mO6-"
      },
      "source": [
        "# Testing"
      ]
    },
    {
      "cell_type": "code",
      "execution_count": null,
      "metadata": {
        "id": "NyXFndGymO6-"
      },
      "outputs": [],
      "source": [
        "train_1 = pd.read_csv('ml-100k/u1.base', header=None, names=['user_id', 'item_id', 'rating', 'timestamp'],\n",
        "                 delim_whitespace=True)\n",
        "test_1 = pd.read_csv('ml-100k/u1.test', header=None, names=['user_id', 'item_id', 'rating', 'timestamp'],\n",
        "                 delim_whitespace=True)"
      ]
    },
    {
      "cell_type": "code",
      "execution_count": null,
      "metadata": {
        "id": "9ECpCB84mO6-"
      },
      "outputs": [],
      "source": [
        "for col in  ['user_id', 'item_id']:\n",
        "    train_1[col] = train_1[col]-1\n",
        "    test_1[col] = test_1[col]-1"
      ]
    },
    {
      "cell_type": "code",
      "execution_count": null,
      "metadata": {
        "id": "g0_ogvr2mO7B"
      },
      "outputs": [],
      "source": [
        "train_1_ratings_matrix = np.array(pd.crosstab(index=pd.Categorical(train_1['user_id'],categories = [i for i in range(943)]),\n",
        "                              columns=pd.Categorical(train_1['item_id'],categories = [i for i in range(1682)]),\n",
        "                             values=train_1['rating'], aggfunc=np.sum, dropna= False).fillna(0).values)\n",
        "test_1_ratings_matrix = np.array(pd.crosstab(index=pd.Categorical(test_1['user_id'],categories = [i for i in range(943)]),\n",
        "                              columns=pd.Categorical(test_1['item_id'],categories = [i for i in range(1682)]),\n",
        "                             values=test_1['rating'], aggfunc=np.sum, dropna= False).fillna(0).values)"
      ]
    },
    {
      "cell_type": "code",
      "source": [
        "train_1_if_filled = np.array(train_1_ratings_matrix!=0, dtype=float)\n",
        "test_1_if_filled = np.array(test_1_ratings_matrix!=0, dtype=float)"
      ],
      "metadata": {
        "id": "Ri2JlU1-zh4y"
      },
      "execution_count": null,
      "outputs": []
    },
    {
      "cell_type": "markdown",
      "metadata": {
        "id": "8qD_eB_imO7B"
      },
      "source": [
        "#### YOUR TASK:\n",
        "\n",
        "1. Check if train + test is equal to full data_set"
      ]
    },
    {
      "cell_type": "code",
      "execution_count": null,
      "metadata": {
        "colab": {
          "base_uri": "https://localhost:8080/"
        },
        "id": "m_CbNBRhmO7B",
        "outputId": "f94960db-bcab-4614-8390-69aab7f59559"
      },
      "outputs": [
        {
          "output_type": "stream",
          "name": "stdout",
          "text": [
            "Is train + test equal to the full dataset? True\n",
            "943 1682\n",
            "[[1 1 3 ... 1 3 1]\n",
            " [3 4 1 ... 5 3 4]\n",
            " [1 2 4 ... 5 2 2]\n",
            " ...\n",
            " [2 3 4 ... 1 1 2]\n",
            " [3 5 5 ... 1 1 5]\n",
            " [1 1 5 ... 2 4 1]]\n",
            "RMSE for random predictions: 1.88277720402601\n",
            "RMSE for perfect predictions: 0.0\n"
          ]
        }
      ],
      "source": [
        "# Insert your code here ~ 1-2 lines\n",
        "full_data = pd.read_csv('ml-100k/u.data', header=None, names=['user_id', 'item_id', 'rating', 'timestamp'],\n",
        "                        delim_whitespace=True)\n",
        "\n",
        "for col in ['user_id', 'item_id']:\n",
        "    full_data[col] = full_data[col] - 1\n",
        "\n",
        "full_ratings_matrix = pd.crosstab(index=full_data['user_id'], columns=full_data['item_id'],\n",
        "                                  values=full_data['rating'], aggfunc=np.sum).fillna(0).values\n",
        "\n",
        "combined_ratings_matrix = train_1_ratings_matrix + test_1_ratings_matrix\n",
        "\n",
        "is_equal = np.array_equal(combined_ratings_matrix, full_ratings_matrix)\n",
        "print(\"Is train + test equal to the full dataset?\", is_equal)\n",
        "\n",
        "neighbors, distances = knn(train_1_ratings_matrix, 3, cosine_similarity_distance)\n",
        "recommendation_matrix = calculate_recommendation(train_1_ratings_matrix, neighbors, distances)\n",
        "\n",
        "ratings_matrix_ind = np.array(full_ratings_matrix != 0, dtype=float)\n",
        "a, b = ratings_matrix_ind.shape\n",
        "print(a, b)\n",
        "\n",
        "dumb_pred = np.random.randint(1, 6, size=a * b)\n",
        "dumb_pred.shape = (a, b)\n",
        "print(dumb_pred)\n",
        "\n",
        "print(\"RMSE for random predictions:\", rmse(full_ratings_matrix, dumb_pred, ratings_matrix_ind)\n",
        "print(\"RMSE for perfect predictions:\", rmse(full_ratings_matrix, full_ratings_matrix, ratings_matrix_ind))"
      ]
    },
    {
      "cell_type": "markdown",
      "metadata": {
        "id": "Kf64BOFomO7B"
      },
      "source": [
        "#### YOUR TASK:\n",
        "\n",
        "1. How to check what is the base line for the model?\n",
        "\n",
        "<!--\n",
        "neighbors, distances = knn(train_1_ratings_matrix, 3, cosine_similarity_distance)\n",
        "recommendation_matrix = calculate_recommendation(train_1_ratings_matrix, neighbors, distances)\n",
        "ratings_matrix_ind =  np.array(ratings_matrix!=0, dtype=float)\n",
        "a,b =ratings_matrix_ind.shape\n",
        "print (a,b)\n",
        "dumb_pred = np.random.randint(1,6, size=a*b)\n",
        "dumb_pred.shape=(a,b)\n",
        "dumb_pred\n",
        "rmse(ratings_matrix, dumb_pred,ratings_matrix_ind)\n",
        "-->"
      ]
    },
    {
      "cell_type": "code",
      "execution_count": null,
      "metadata": {
        "colab": {
          "base_uri": "https://localhost:8080/"
        },
        "id": "v9NzNMizmO7C",
        "outputId": "36742377-8459-4419-9ac4-70d64a39f759"
      },
      "outputs": [
        {
          "output_type": "stream",
          "name": "stdout",
          "text": [
            "RMSE for global mean baseline: 1.2720455966670376\n",
            "RMSE for user mean baseline: 3.4851027717559986\n",
            "RMSE for item mean baseline: 3.2172387405274843\n"
          ]
        }
      ],
      "source": [
        "# Calculate global mean\n",
        "global_mean = np.mean(train_1_ratings_matrix[train_1_ratings_matrix != 0])\n",
        "user_means = np.mean(train_1_ratings_matrix, axis=1)\n",
        "item_means = np.mean(train_1_ratings_matrix, axis=0)\n",
        "global_baseline_pred = np.full_like(test_1_ratings_matrix, global_mean)\n",
        "user_baseline_pred = np.tile(user_means, (test_1_ratings_matrix.shape[1], 1)).T\n",
        "item_baseline_pred = np.tile(item_means, (test_1_ratings_matrix.shape[0], 1))\n",
        "\n",
        "# RMSE for baseline predictions\n",
        "print(\"RMSE for global mean baseline:\", rmse(test_1_ratings_matrix, global_baseline_pred, test_1_if_filled))\n",
        "print(\"RMSE for user mean baseline:\", rmse(test_1_ratings_matrix, user_baseline_pred, test_1_if_filled))\n",
        "print(\"RMSE for item mean baseline:\", rmse(test_1_ratings_matrix, item_baseline_pred, test_1_if_filled))\n"
      ]
    },
    {
      "cell_type": "markdown",
      "metadata": {
        "id": "MEwpuQuOmO7C"
      },
      "source": [
        "# Validation"
      ]
    },
    {
      "cell_type": "code",
      "execution_count": null,
      "metadata": {
        "id": "PvdmeA2amO7C"
      },
      "outputs": [],
      "source": [
        "def cross_val_testing(ratings_matrix):\n",
        "    results =[]\n",
        "    print(\"start\")\n",
        "    for ii in range(1,6):\n",
        "        iter_start_time = time.time()\n",
        "        train = pd.read_csv('ml-100k/u{}.base'.format(ii), header=None, names=['user_id', 'item_id', 'rating', 'timestamp'],\n",
        "                             delim_whitespace=True)\n",
        "        test = pd.read_csv('ml-100k/u{}.test'.format(ii), header=None, names=['user_id', 'item_id', 'rating', 'timestamp'],\n",
        "                             delim_whitespace=True)\n",
        "\n",
        "        for col in  ['user_id', 'item_id']:\n",
        "            train[col] = train[col]-1\n",
        "            test[col] = test[col]-1\n",
        "\n",
        "        train_ratings_matrix = np.array(pd.crosstab(index=pd.Categorical(train['user_id'],categories = [i for i in range(943)]),\n",
        "                                                    columns=pd.Categorical(train['item_id'],categories = [i for i in range(1682)]),\n",
        "                                                    values=train['rating'], aggfunc=np.sum, dropna= False).fillna(0).values)\n",
        "        test_ratings_matrix = np.array(pd.crosstab(index=pd.Categorical(test['user_id'],categories = [i for i in range(943)]),\n",
        "                                                    columns=pd.Categorical(test['item_id'],categories = [i for i in range(1682)]),\n",
        "                                                    values=test['rating'], aggfunc=np.sum, dropna= False).fillna(0).values)\n",
        "\n",
        "        train_ratings_item_matrix = np.array(pd.crosstab(index=pd.Categorical(train['item_id'],categories = [i for i in range(1682)]),\n",
        "                                                    columns=pd.Categorical(train['user_id'],categories = [i for i in range(943)]),\n",
        "                                                    values=train['rating'], aggfunc=np.sum, dropna= False).fillna(0).values)\n",
        "\n",
        "        train_ind = np.array(train_ratings_matrix!=0, dtype=float)\n",
        "        test_ind = np.array(test_ratings_matrix!=0, dtype=float)\n",
        "\n",
        "        print('Precalc time: ',  round((time.time()-iter_start_time)/60.0,3) )\n",
        "\n",
        "        for k in [5,7,40]:\n",
        "            for function_name,dist_function in zip(['jackard','cosine','better_cosine','pearson'],[jackard_similarity_distance, cosine_similarity_distance, better_cosine_similarity_distance, scipy_pearson_similarity_distance]):\n",
        "                for cf_type,rec_fun in zip(['u-u','i-i'],[calculate_recommendation, calculate_recommendation_item_based]):\n",
        "                    start_time = time.time()\n",
        "                    neighbors, distances = knn(train_ratings_matrix, k, dist_function) if cf_type =='u-u' \\\n",
        "                                        else knn(train_ratings_item_matrix, k, dist_function)\n",
        "                    recommendation_matrix = rec_fun(train_ratings_matrix, neighbors, distances)\n",
        "                    rmse_val = rmse(ratings_matrix, recommendation_matrix, test_ind)\n",
        "                    results.append([ii,cf_type,function_name,k, rmse_val, round((time.time()-start_time)/60.0,3)])\n",
        "                    print ([ii,cf_type,function_name,k, rmse_val, round((time.time()-start_time)/60.0,3)])\n",
        "        print(\"Iter time: \", iter_start_time)\n",
        "    return results"
      ]
    },
    {
      "cell_type": "code",
      "execution_count": null,
      "metadata": {
        "id": "KODzwcCymO7C",
        "outputId": "b95d0af8-e3d7-48f6-b98d-e4aaa9f25d51",
        "colab": {
          "base_uri": "https://localhost:8080/"
        }
      },
      "outputs": [
        {
          "output_type": "stream",
          "name": "stdout",
          "text": [
            "start\n",
            "Precalc time:  0.035\n",
            "[1, 'u-u', 'jackard', 5, 2.0678695642161955, 0.805]\n",
            "[1, 'i-i', 'jackard', 5, 2.07939881363725, 1.083]\n",
            "[1, 'u-u', 'cosine', 5, 1.790693004650543, 0.762]\n",
            "[1, 'i-i', 'cosine', 5, 1.987919719749416, 1.12]\n",
            "[1, 'u-u', 'better_cosine', 5, 1.6600860504577652, 2.121]\n",
            "[1, 'i-i', 'better_cosine', 5, 2.052101876181985, 3.93]\n",
            "[1, 'u-u', 'pearson', 5, 1.9115458766052564, 18.037]\n",
            "[1, 'i-i', 'pearson', 5, 2.2035608655094836, 37.144]\n",
            "[1, 'u-u', 'jackard', 7, 1.87967003015912, 0.799]\n",
            "[1, 'i-i', 'jackard', 7, 1.8555065138352604, 1.063]\n",
            "[1, 'u-u', 'cosine', 7, 1.6265023101116074, 0.762]\n",
            "[1, 'i-i', 'cosine', 7, 1.7743913471075559, 1.122]\n",
            "[1, 'u-u', 'better_cosine', 7, 1.499771431941783, 2.131]\n",
            "[1, 'i-i', 'better_cosine', 7, 1.8150402534456915, 3.947]\n",
            "[1, 'u-u', 'pearson', 7, 1.7415663027302923, 17.944]\n",
            "[1, 'i-i', 'pearson', 7, 1.9708087128290266, 35.712]\n",
            "[1, 'u-u', 'jackard', 40, 1.2268218018519588, 0.82]\n",
            "[1, 'i-i', 'jackard', 40, 1.1573506315428252, 1.075]\n",
            "[1, 'u-u', 'cosine', 40, 1.1474598656684827, 0.817]\n",
            "[1, 'i-i', 'cosine', 40, 1.126978333917875, 1.133]\n",
            "[1, 'u-u', 'better_cosine', 40, 1.102252324669122, 2.14]\n",
            "[1, 'i-i', 'better_cosine', 40, 1.1934848647446075, 3.971]\n",
            "[1, 'u-u', 'pearson', 40, 1.1814517166681935, 17.849]\n",
            "[1, 'i-i', 'pearson', 40, 1.1754758654529118, 36.67]\n",
            "Iter time:  1716411289.8631132\n",
            "Precalc time:  0.035\n",
            "[2, 'u-u', 'jackard', 5, 1.9972057769833358, 0.765]\n",
            "[2, 'i-i', 'jackard', 5, 1.9058698777255927, 2.087]\n",
            "[2, 'u-u', 'cosine', 5, 1.813200090508624, 0.767]\n",
            "[2, 'i-i', 'cosine', 5, 1.8341705527171026, 1.87]\n",
            "[2, 'u-u', 'better_cosine', 5, 1.7460419162266778, 2.06]\n",
            "[2, 'i-i', 'better_cosine', 5, 1.8223591205029277, 5.066]\n"
          ]
        }
      ],
      "source": [
        "result = cross_val_testing(ratings_matrix)"
      ]
    }
  ],
  "metadata": {
    "kernelspec": {
      "display_name": "Python 3 (ipykernel)",
      "language": "python",
      "name": "python3"
    },
    "language_info": {
      "codemirror_mode": {
        "name": "ipython",
        "version": 3
      },
      "file_extension": ".py",
      "mimetype": "text/x-python",
      "name": "python",
      "nbconvert_exporter": "python",
      "pygments_lexer": "ipython3",
      "version": "3.8.10"
    },
    "colab": {
      "provenance": []
    }
  },
  "nbformat": 4,
  "nbformat_minor": 0
}